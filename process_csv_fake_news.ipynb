{
 "cells": [
  {
   "cell_type": "code",
   "execution_count": null,
   "metadata": {
    "collapsed": true
   },
   "outputs": [],
   "source": [
    "import csv\n",
    "import sys"
   ]
  },
  {
   "cell_type": "code",
   "execution_count": null,
   "metadata": {
    "collapsed": false
   },
   "outputs": [],
   "source": [
    "\n",
    "csv.field_size_limit(sys.maxsize)\n",
    "'''Extract news title from the csv dataset'''\n",
    "def fakenews_titles(dataset_name):\n",
    "    file = open('fake_news_titles.txt',\"w\") \n",
    "    file_2 = open('fake_news_url.txt',\"w\")\n",
    "    with open(dataset_name, newline='') as csvfile:\n",
    "        spamreader = csv.reader(csvfile)\n",
    "        length = 0\n",
    "        title = list()\n",
    "        for index, row in enumerate(spamreader):\n",
    "            if index > 0:\n",
    "                title_length = len(row[4])\n",
    "                if title_length < 200:\n",
    "                    if title_length > 0:\n",
    "                        one_title = row[4]\n",
    "                        end_index = one_title.find('»')\n",
    "                        sub_title = one_title[0:end_index]\n",
    "                        title.append(sub_title)\n",
    "                        file.write(sub_title)\n",
    "                        file.write('\\n')\n",
    "                file_2.write(row[8])\n",
    "                file_2.wirte('\\n')\n",
    "        print(title)\n",
    "        file.close()\n",
    "        file_2.close()\n",
    "        return title\n",
    "    \n",
    "            "
   ]
  },
  {
   "cell_type": "code",
   "execution_count": null,
   "metadata": {
    "collapsed": false
   },
   "outputs": [],
   "source": [
    "fakenews_titles('data/fake news data - Shiyi/kaggle dataset/fake.csv')"
   ]
  },
  {
   "cell_type": "code",
   "execution_count": null,
   "metadata": {
    "collapsed": true
   },
   "outputs": [],
   "source": []
  }
 ],
 "metadata": {
  "kernelspec": {
   "display_name": "Python 3",
   "language": "python",
   "name": "python3"
  },
  "language_info": {
   "codemirror_mode": {
    "name": "ipython",
    "version": 3
   },
   "file_extension": ".py",
   "mimetype": "text/x-python",
   "name": "python",
   "nbconvert_exporter": "python",
   "pygments_lexer": "ipython3",
   "version": "3.5.0"
  }
 },
 "nbformat": 4,
 "nbformat_minor": 1
}
