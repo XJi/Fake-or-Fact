{
 "cells": [
  {
   "cell_type": "code",
   "execution_count": null,
   "metadata": {
    "collapsed": false
   },
   "outputs": [],
   "source": [
    "import re\n",
    "import nltk\n",
    "import numpy as np\n",
    "from keras.preprocessing.text import one_hot\n",
    "from sklearn import svm\n",
    "from sklearn.svm import SVC\n",
    "from sklearn.multiclass import OneVsRestClassifier\n",
    "from sklearn.preprocessing import LabelBinarizer"
   ]
  },
  {
   "cell_type": "code",
   "execution_count": null,
   "metadata": {
    "collapsed": true
   },
   "outputs": [],
   "source": [
    "#TODO:\n",
    "# 1. Clean up the hard coding\n",
    "# 2. Change the input format for training to allow various length (No append @ list)\n",
    "# 3. Check out other SVM methods\n"
   ]
  },
  {
   "cell_type": "code",
   "execution_count": null,
   "metadata": {
    "collapsed": true
   },
   "outputs": [],
   "source": [
    "def clean_sentence(s):\n",
    "    c = s.lower().strip()\n",
    "    return re.sub('[^a-z ]', '', c)"
   ]
  },
  {
   "cell_type": "code",
   "execution_count": null,
   "metadata": {
    "collapsed": false
   },
   "outputs": [],
   "source": [
    "def encode_words(sentences):\n",
    "    encoded = list()\n",
    "    for sentence in sentences:\n",
    "        words = list()\n",
    "        mapping = list()\n",
    "        words = nltk.word_tokenize(sentence)\n",
    "        for word in words:\n",
    "            mapping.append(one_hot(word,30000)[0])\n",
    "        encoded.append(mapping);\n",
    "    return encoded"
   ]
  },
  {
   "cell_type": "code",
   "execution_count": null,
   "metadata": {
    "collapsed": false
   },
   "outputs": [],
   "source": [
    "def append_with_max_len(encoded,length):\n",
    "    for e in encoded:\n",
    "        for count in range(len(e), length):\n",
    "            e.append(0)\n",
    "    return encoded; \n",
    "    "
   ]
  },
  {
   "cell_type": "code",
   "execution_count": null,
   "metadata": {
    "collapsed": false
   },
   "outputs": [],
   "source": [
    "def set_label(fake_size, real_size):\n",
    "    label = list()\n",
    "    for counter in range(0,fake_size):\n",
    "        label.append(0)\n",
    "    for counter in range(0,real_size):\n",
    "        label.append(1)\n",
    "    return label"
   ]
  },
  {
   "cell_type": "code",
   "execution_count": null,
   "metadata": {
    "collapsed": false
   },
   "outputs": [],
   "source": [
    "train_news = list()\n",
    "fake_size = 0\n",
    "real_size = 0\n",
    "with open('./data/fake_news_training.txt') as train1:\n",
    "    with open('./data/real_news_training.txt') as train2:\n",
    "        for line in train1:\n",
    "            train_news.append(clean_sentence(line))\n",
    "            fake_size = fake_size+1\n",
    "        for line in train2:\n",
    "            train_news.append(clean_sentence(line))\n",
    "            real_size = real_size+1\n",
    "predict_news = list()\n",
    "with open('./data/testing_real.txt') as predict1:\n",
    "    with open('./data/testing_fake.txt') as predict2:\n",
    "        for line in predict1:\n",
    "            predict_news.append(clean_sentence(line))\n",
    "        for line in predict2:\n",
    "            predict_news.append(clean_sentence(line))\n",
    "        \n",
    "words = encode_words(train_news)\n",
    "labels = set_label(fake_size, real_size)\n",
    "print(len(words))\n",
    "print(len(labels))\n",
    "appended = append_with_max_len(words,len(max(words, key=len)))\n",
    "print(appended)\n",
    "predict_words = encode_words(predict_news)\n",
    "classif = OneVsRestClassifier(estimator=SVC(random_state=0))\n",
    "predict_words = encode_words(predict_news)\n",
    "classif.fit(appended, labels).predict(append_with_max_len(predict_words,len(max(words, key=len))))\n"
   ]
  }
 ],
 "metadata": {
  "kernelspec": {
   "display_name": "Python 3",
   "language": "python",
   "name": "python3"
  },
  "language_info": {
   "codemirror_mode": {
    "name": "ipython",
    "version": 3
   },
   "file_extension": ".py",
   "mimetype": "text/x-python",
   "name": "python",
   "nbconvert_exporter": "python",
   "pygments_lexer": "ipython3",
   "version": "3.5.0"
  }
 },
 "nbformat": 4,
 "nbformat_minor": 1
}
