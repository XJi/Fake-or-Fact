{
 "cells": [
  {
   "cell_type": "code",
   "execution_count": null,
   "metadata": {
    "collapsed": false
   },
   "outputs": [],
   "source": [
    "import re\n",
    "import nltk\n",
    "import math\n",
    "import numpy as np\n",
    "#import feature_matrix\n",
    "from keras.preprocessing.text import one_hot\n",
    "from sklearn import svm\n",
    "from sklearn.svm import SVC\n",
    "from sklearn.multiclass import OneVsRestClassifier\n",
    "from sklearn.preprocessing import LabelBinarizer"
   ]
  },
  {
   "cell_type": "code",
   "execution_count": null,
   "metadata": {
    "collapsed": true
   },
   "outputs": [],
   "source": [
    ""
   ]
  },
  {
   "cell_type": "code",
   "execution_count": null,
   "metadata": {
    "collapsed": false
   },
   "outputs": [],
   "source": [
    "#Function to extract adjectives from the contents. Return a list of strings\n",
    "#Need nltk library: import nltk\n",
    "def extract_adjective(sentences):\n",
    "    adj_sentences = list()\n",
    "    for sentence in sentences:\n",
    "        words = nltk.word_tokenize(sentence)\n",
    "        adj_tags = nltk.pos_tag(words)\n",
    "        one_adj_sentence = \"\"\n",
    "        for index, tag in enumerate(adj_tags, start = 0):\n",
    "            one_tag = tag[1]\n",
    "            if one_tag in ['JJ', 'JJR', 'JJS']:\n",
    "                one_adj_sentence += words[index]\n",
    "                one_adj_sentence += \" \"\n",
    "        adj_sentences.append(one_adj_sentence)\n",
    "        #print(one_adj_sentence)\n",
    "    return adj_sentences"
   ]
  },
  {
   "cell_type": "code",
   "execution_count": null,
   "metadata": {
    "collapsed": true
   },
   "outputs": [],
   "source": [
    "def clean_sentence(s):\n",
    "    c = s.lower().strip()\n",
    "    return re.sub('[^a-z ]', '', c)"
   ]
  },
  {
   "cell_type": "code",
   "execution_count": null,
   "metadata": {
    "collapsed": false
   },
   "outputs": [],
   "source": [
    "def encode_words(sentences):\n",
    "    encoded = list()\n",
    "    for sentence in sentences:\n",
    "        words = list()\n",
    "        mapping = list()\n",
    "        words = nltk.word_tokenize(sentence)\n",
    "        for word in words:\n",
    "            mapping.append(one_hot(word,10000)[0])\n",
    "        encoded.append(mapping);\n",
    "    return encoded"
   ]
  },
  {
   "cell_type": "code",
   "execution_count": null,
   "metadata": {
    "collapsed": false
   },
   "outputs": [],
   "source": [
    "def append_with_max_len(encoded,length):\n",
    "    for e in encoded:\n",
    "        for count in range(len(e), length):\n",
    "            e.append(0)\n",
    "    return encoded;"
   ]
  },
  {
   "cell_type": "code",
   "execution_count": null,
   "metadata": {
    "collapsed": false
   },
   "outputs": [],
   "source": [
    "def set_label(fake_size, real_size):\n",
    "    label = list()\n",
    "    for counter in range(0,fake_size):\n",
    "        label.append(0)\n",
    "    for counter in range(0,real_size):\n",
    "        label.append(1)\n",
    "    return label"
   ]
  },
  {
   "cell_type": "code",
   "execution_count": null,
   "metadata": {
    "collapsed": false
   },
   "outputs": [],
   "source": [
    "train_news = list()\n",
    "fake_size = 0\n",
    "real_size = 0\n",
    "with open('./data/titles/fake_news_training.txt') as train1:\n",
    "    with open('./data/titles/real_news_training.txt') as train2:\n",
    "        for line in train1:\n",
    "            train_news.append(clean_sentence(line))\n",
    "            fake_size = fake_size+1\n",
    "        for line in train2:\n",
    "            train_news.append(clean_sentence(line))\n",
    "            real_size = real_size+1\n",
    "predict_news = list()\n",
    "with open('./data/titles/fake_news_training.txt') as predict1:\n",
    "    with open('./data/titles/testing_fake.txt') as predict2:\n",
    "        for line in predict1:\n",
    "            predict_news.append(clean_sentence(line))\n",
    "        for line in predict2:\n",
    "            predict_news.append(clean_sentence(line))\n",
    "words = encode_words(extract_adjective(train_news))    \n",
    "#print(words)\n",
    "labels = set_label(fake_size, real_size)\n",
    "#converted = convert_matrix(words)\n",
    "#print(len(converted))\n",
    "appended = append_with_max_len(words,len(max(words, key=len)))\n",
    "print(appended)\n",
    "predict_words = encode_words(predict_news)\n",
    "classif = OneVsRestClassifier(estimator=SVC(random_state=0))\n",
    "\n",
    "predict_words = encode_words(extract_adjective(predict_news))\n",
    "item = classif.fit(appended, labels)\n",
    "print(item)\n",
    "item.predict(append_with_max_len(predict_words,len(max(words, key=len))))"
   ]
  },
  {
   "cell_type": "code",
   "execution_count": null,
   "metadata": {
    "collapsed": true
   },
   "outputs": [],
   "source": [
    ""
   ]
  },
  {
   "cell_type": "code",
   "execution_count": null,
   "metadata": {
    "collapsed": true
   },
   "outputs": [],
   "source": [
    ""
   ]
  },
  {
   "cell_type": "code",
   "execution_count": null,
   "metadata": {
    "collapsed": true
   },
   "outputs": [],
   "source": [
    ""
   ]
  }
 ],
 "metadata": {
  "kernelspec": {
   "display_name": "Python 3",
   "language": "python",
   "name": "python3"
  },
  "language_info": {
   "codemirror_mode": {
    "name": "ipython",
    "version": 3.0
   },
   "file_extension": ".py",
   "mimetype": "text/x-python",
   "name": "python",
   "nbconvert_exporter": "python",
   "pygments_lexer": "ipython3",
   "version": "3.5.0"
  }
 },
 "nbformat": 4,
 "nbformat_minor": 0
}